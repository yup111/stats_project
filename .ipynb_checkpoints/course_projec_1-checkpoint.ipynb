{
 "cells": [
  {
   "cell_type": "code",
   "execution_count": 19,
   "metadata": {},
   "outputs": [
    {
     "data": {
      "text/html": [
       "<table>\n",
       "<thead><tr><th scope=col>id</th><th scope=col>psa_level</th><th scope=col>cancer_volume</th><th scope=col>weight</th><th scope=col>age</th><th scope=col>benign_prostatic_hyperplasia</th><th scope=col>seminal_vesicle_invasion</th><th scope=col>capsular_penetration</th><th scope=col>gleason_score</th></tr></thead>\n",
       "<tbody>\n",
       "\t<tr><td>1     </td><td>0.651 </td><td>0.5599</td><td>15.959</td><td>50    </td><td>0     </td><td>0     </td><td>0     </td><td>6     </td></tr>\n",
       "\t<tr><td>2     </td><td>0.852 </td><td>0.3716</td><td>27.660</td><td>58    </td><td>0     </td><td>0     </td><td>0     </td><td>7     </td></tr>\n",
       "\t<tr><td>3     </td><td>0.852 </td><td>0.6005</td><td>14.732</td><td>74    </td><td>0     </td><td>0     </td><td>0     </td><td>7     </td></tr>\n",
       "\t<tr><td>4     </td><td>0.852 </td><td>0.3012</td><td>26.576</td><td>58    </td><td>0     </td><td>0     </td><td>0     </td><td>6     </td></tr>\n",
       "\t<tr><td>5     </td><td>1.448 </td><td>2.1170</td><td>30.877</td><td>62    </td><td>0     </td><td>0     </td><td>0     </td><td>6     </td></tr>\n",
       "\t<tr><td>6     </td><td>2.160 </td><td>0.3499</td><td>25.280</td><td>50    </td><td>0     </td><td>0     </td><td>0     </td><td>6     </td></tr>\n",
       "</tbody>\n",
       "</table>\n"
      ],
      "text/latex": [
       "\\begin{tabular}{r|lllllllll}\n",
       " id & psa\\_level & cancer\\_volume & weight & age & benign\\_prostatic\\_hyperplasia & seminal\\_vesicle\\_invasion & capsular\\_penetration & gleason\\_score\\\\\n",
       "\\hline\n",
       "\t 1      & 0.651  & 0.5599 & 15.959 & 50     & 0      & 0      & 0      & 6     \\\\\n",
       "\t 2      & 0.852  & 0.3716 & 27.660 & 58     & 0      & 0      & 0      & 7     \\\\\n",
       "\t 3      & 0.852  & 0.6005 & 14.732 & 74     & 0      & 0      & 0      & 7     \\\\\n",
       "\t 4      & 0.852  & 0.3012 & 26.576 & 58     & 0      & 0      & 0      & 6     \\\\\n",
       "\t 5      & 1.448  & 2.1170 & 30.877 & 62     & 0      & 0      & 0      & 6     \\\\\n",
       "\t 6      & 2.160  & 0.3499 & 25.280 & 50     & 0      & 0      & 0      & 6     \\\\\n",
       "\\end{tabular}\n"
      ],
      "text/markdown": [
       "\n",
       "id | psa_level | cancer_volume | weight | age | benign_prostatic_hyperplasia | seminal_vesicle_invasion | capsular_penetration | gleason_score | \n",
       "|---|---|---|---|---|---|\n",
       "| 1      | 0.651  | 0.5599 | 15.959 | 50     | 0      | 0      | 0      | 6      | \n",
       "| 2      | 0.852  | 0.3716 | 27.660 | 58     | 0      | 0      | 0      | 7      | \n",
       "| 3      | 0.852  | 0.6005 | 14.732 | 74     | 0      | 0      | 0      | 7      | \n",
       "| 4      | 0.852  | 0.3012 | 26.576 | 58     | 0      | 0      | 0      | 6      | \n",
       "| 5      | 1.448  | 2.1170 | 30.877 | 62     | 0      | 0      | 0      | 6      | \n",
       "| 6      | 2.160  | 0.3499 | 25.280 | 50     | 0      | 0      | 0      | 6      | \n",
       "\n",
       "\n"
      ],
      "text/plain": [
       "  id psa_level cancer_volume weight age benign_prostatic_hyperplasia\n",
       "1 1  0.651     0.5599        15.959 50  0                           \n",
       "2 2  0.852     0.3716        27.660 58  0                           \n",
       "3 3  0.852     0.6005        14.732 74  0                           \n",
       "4 4  0.852     0.3012        26.576 58  0                           \n",
       "5 5  1.448     2.1170        30.877 62  0                           \n",
       "6 6  2.160     0.3499        25.280 50  0                           \n",
       "  seminal_vesicle_invasion capsular_penetration gleason_score\n",
       "1 0                        0                    6            \n",
       "2 0                        0                    7            \n",
       "3 0                        0                    7            \n",
       "4 0                        0                    6            \n",
       "5 0                        0                    6            \n",
       "6 0                        0                    6            "
      ]
     },
     "metadata": {},
     "output_type": "display_data"
    }
   ],
   "source": [
    "patients <- read.table(\"project_data.txt\", header = FALSE, sep = \"\", dec = \".\")\n",
    "colnames(patients) <- c(\"id\", \"psa_level\", \"cancer_volume\", \"weight\", \"age\", \"benign_prostatic_hyperplasia\", \"seminal_vesicle_invasion\", \"capsular_penetration\", \"gleason_score\")\n",
    "head(patients)"
   ]
  },
  {
   "cell_type": "code",
   "execution_count": 20,
   "metadata": {},
   "outputs": [
    {
     "data": {
      "text/plain": [
       "       id       psa_level       cancer_volume         weight      \n",
       " Min.   : 1   Min.   :  0.651   Min.   : 0.2592   Min.   : 10.70  \n",
       " 1st Qu.:25   1st Qu.:  5.641   1st Qu.: 1.6653   1st Qu.: 29.37  \n",
       " Median :49   Median : 13.330   Median : 4.2631   Median : 37.34  \n",
       " Mean   :49   Mean   : 23.730   Mean   : 6.9987   Mean   : 45.49  \n",
       " 3rd Qu.:73   3rd Qu.: 21.328   3rd Qu.: 8.4149   3rd Qu.: 48.42  \n",
       " Max.   :97   Max.   :265.072   Max.   :45.6042   Max.   :450.34  \n",
       "      age        benign_prostatic_hyperplasia seminal_vesicle_invasion\n",
       " Min.   :41.00   Min.   : 0.000               Min.   :0.0000          \n",
       " 1st Qu.:60.00   1st Qu.: 0.000               1st Qu.:0.0000          \n",
       " Median :65.00   Median : 1.350               Median :0.0000          \n",
       " Mean   :63.87   Mean   : 2.535               Mean   :0.2165          \n",
       " 3rd Qu.:68.00   3rd Qu.: 4.759               3rd Qu.:0.0000          \n",
       " Max.   :79.00   Max.   :10.278               Max.   :1.0000          \n",
       " capsular_penetration gleason_score  \n",
       " Min.   : 0.0000      Min.   :6.000  \n",
       " 1st Qu.: 0.0000      1st Qu.:6.000  \n",
       " Median : 0.4493      Median :7.000  \n",
       " Mean   : 2.2454      Mean   :6.876  \n",
       " 3rd Qu.: 3.2544      3rd Qu.:7.000  \n",
       " Max.   :18.1741      Max.   :8.000  "
      ]
     },
     "metadata": {},
     "output_type": "display_data"
    },
    {
     "data": {
      "text/html": [
       "<table>\n",
       "<thead><tr><th></th><th scope=col>psa_level</th><th scope=col>cancer_volume</th><th scope=col>weight</th><th scope=col>age</th><th scope=col>benign_prostatic_hyperplasia</th><th scope=col>seminal_vesicle_invasion</th><th scope=col>capsular_penetration</th><th scope=col>gleason_score</th></tr></thead>\n",
       "<tbody>\n",
       "\t<tr><th scope=row>psa_level</th><td> 1.000</td><td> 0.624</td><td> 0.026</td><td>0.017 </td><td>-0.016</td><td> 0.529</td><td> 0.551</td><td> 0.430</td></tr>\n",
       "\t<tr><th scope=row>cancer_volume</th><td> 0.624</td><td> 1.000</td><td> 0.005</td><td>0.039 </td><td>-0.133</td><td> 0.582</td><td> 0.693</td><td> 0.481</td></tr>\n",
       "\t<tr><th scope=row>weight</th><td> 0.026</td><td> 0.005</td><td> 1.000</td><td>0.164 </td><td> 0.322</td><td>-0.002</td><td> 0.002</td><td>-0.024</td></tr>\n",
       "\t<tr><th scope=row>age</th><td> 0.017</td><td> 0.039</td><td> 0.164</td><td>1.000 </td><td> 0.366</td><td> 0.118</td><td> 0.100</td><td> 0.226</td></tr>\n",
       "\t<tr><th scope=row>benign_prostatic_hyperplasia</th><td>-0.016</td><td>-0.133</td><td> 0.322</td><td>0.366 </td><td> 1.000</td><td>-0.120</td><td>-0.083</td><td> 0.027</td></tr>\n",
       "\t<tr><th scope=row>seminal_vesicle_invasion</th><td> 0.529</td><td> 0.582</td><td>-0.002</td><td>0.118 </td><td>-0.120</td><td> 1.000</td><td> 0.680</td><td> 0.429</td></tr>\n",
       "\t<tr><th scope=row>capsular_penetration</th><td> 0.551</td><td> 0.693</td><td> 0.002</td><td>0.100 </td><td>-0.083</td><td> 0.680</td><td> 1.000</td><td> 0.462</td></tr>\n",
       "\t<tr><th scope=row>gleason_score</th><td> 0.430</td><td> 0.481</td><td>-0.024</td><td>0.226 </td><td> 0.027</td><td> 0.429</td><td> 0.462</td><td> 1.000</td></tr>\n",
       "</tbody>\n",
       "</table>\n"
      ],
      "text/latex": [
       "\\begin{tabular}{r|llllllll}\n",
       "  & psa\\_level & cancer\\_volume & weight & age & benign\\_prostatic\\_hyperplasia & seminal\\_vesicle\\_invasion & capsular\\_penetration & gleason\\_score\\\\\n",
       "\\hline\n",
       "\tpsa\\_level &  1.000 &  0.624 &  0.026 & 0.017  & -0.016 &  0.529 &  0.551 &  0.430\\\\\n",
       "\tcancer\\_volume &  0.624 &  1.000 &  0.005 & 0.039  & -0.133 &  0.582 &  0.693 &  0.481\\\\\n",
       "\tweight &  0.026 &  0.005 &  1.000 & 0.164  &  0.322 & -0.002 &  0.002 & -0.024\\\\\n",
       "\tage &  0.017 &  0.039 &  0.164 & 1.000  &  0.366 &  0.118 &  0.100 &  0.226\\\\\n",
       "\tbenign\\_prostatic\\_hyperplasia & -0.016 & -0.133 &  0.322 & 0.366  &  1.000 & -0.120 & -0.083 &  0.027\\\\\n",
       "\tseminal\\_vesicle\\_invasion &  0.529 &  0.582 & -0.002 & 0.118  & -0.120 &  1.000 &  0.680 &  0.429\\\\\n",
       "\tcapsular\\_penetration &  0.551 &  0.693 &  0.002 & 0.100  & -0.083 &  0.680 &  1.000 &  0.462\\\\\n",
       "\tgleason\\_score &  0.430 &  0.481 & -0.024 & 0.226  &  0.027 &  0.429 &  0.462 &  1.000\\\\\n",
       "\\end{tabular}\n"
      ],
      "text/markdown": [
       "\n",
       "| <!--/--> | psa_level | cancer_volume | weight | age | benign_prostatic_hyperplasia | seminal_vesicle_invasion | capsular_penetration | gleason_score | \n",
       "|---|---|---|---|---|---|---|---|\n",
       "| psa_level |  1.000 |  0.624 |  0.026 | 0.017  | -0.016 |  0.529 |  0.551 |  0.430 | \n",
       "| cancer_volume |  0.624 |  1.000 |  0.005 | 0.039  | -0.133 |  0.582 |  0.693 |  0.481 | \n",
       "| weight |  0.026 |  0.005 |  1.000 | 0.164  |  0.322 | -0.002 |  0.002 | -0.024 | \n",
       "| age |  0.017 |  0.039 |  0.164 | 1.000  |  0.366 |  0.118 |  0.100 |  0.226 | \n",
       "| benign_prostatic_hyperplasia | -0.016 | -0.133 |  0.322 | 0.366  |  1.000 | -0.120 | -0.083 |  0.027 | \n",
       "| seminal_vesicle_invasion |  0.529 |  0.582 | -0.002 | 0.118  | -0.120 |  1.000 |  0.680 |  0.429 | \n",
       "| capsular_penetration |  0.551 |  0.693 |  0.002 | 0.100  | -0.083 |  0.680 |  1.000 |  0.462 | \n",
       "| gleason_score |  0.430 |  0.481 | -0.024 | 0.226  |  0.027 |  0.429 |  0.462 |  1.000 | \n",
       "\n",
       "\n"
      ],
      "text/plain": [
       "                             psa_level cancer_volume weight age  \n",
       "psa_level                     1.000     0.624         0.026 0.017\n",
       "cancer_volume                 0.624     1.000         0.005 0.039\n",
       "weight                        0.026     0.005         1.000 0.164\n",
       "age                           0.017     0.039         0.164 1.000\n",
       "benign_prostatic_hyperplasia -0.016    -0.133         0.322 0.366\n",
       "seminal_vesicle_invasion      0.529     0.582        -0.002 0.118\n",
       "capsular_penetration          0.551     0.693         0.002 0.100\n",
       "gleason_score                 0.430     0.481        -0.024 0.226\n",
       "                             benign_prostatic_hyperplasia\n",
       "psa_level                    -0.016                      \n",
       "cancer_volume                -0.133                      \n",
       "weight                        0.322                      \n",
       "age                           0.366                      \n",
       "benign_prostatic_hyperplasia  1.000                      \n",
       "seminal_vesicle_invasion     -0.120                      \n",
       "capsular_penetration         -0.083                      \n",
       "gleason_score                 0.027                      \n",
       "                             seminal_vesicle_invasion capsular_penetration\n",
       "psa_level                     0.529                    0.551              \n",
       "cancer_volume                 0.582                    0.693              \n",
       "weight                       -0.002                    0.002              \n",
       "age                           0.118                    0.100              \n",
       "benign_prostatic_hyperplasia -0.120                   -0.083              \n",
       "seminal_vesicle_invasion      1.000                    0.680              \n",
       "capsular_penetration          0.680                    1.000              \n",
       "gleason_score                 0.429                    0.462              \n",
       "                             gleason_score\n",
       "psa_level                     0.430       \n",
       "cancer_volume                 0.481       \n",
       "weight                       -0.024       \n",
       "age                           0.226       \n",
       "benign_prostatic_hyperplasia  0.027       \n",
       "seminal_vesicle_invasion      0.429       \n",
       "capsular_penetration          0.462       \n",
       "gleason_score                 1.000       "
      ]
     },
     "metadata": {},
     "output_type": "display_data"
    }
   ],
   "source": [
    "summary(patients)\n",
    "round(cor(patients[c(\"psa_level\",\"cancer_volume\",\"weight\",\"age\",\"benign_prostatic_hyperplasia\",\"seminal_vesicle_invasion\",\"capsular_penetration\",\"gleason_score\")]),3) "
   ]
  },
  {
   "cell_type": "code",
   "execution_count": 21,
   "metadata": {},
   "outputs": [],
   "source": [
    "patients.model <- lm(psa_level ~ cancer_volume + weight + age + benign_prostatic_hyperplasia + seminal_vesicle_invasion + capsular_penetration + gleason_score, data=patients)"
   ]
  },
  {
   "cell_type": "code",
   "execution_count": 22,
   "metadata": {},
   "outputs": [
    {
     "data": {
      "text/html": [
       "952.165559291773"
      ],
      "text/latex": [
       "952.165559291773"
      ],
      "text/markdown": [
       "952.165559291773"
      ],
      "text/plain": [
       "[1] 952.1656"
      ]
     },
     "metadata": {},
     "output_type": "display_data"
    },
    {
     "data": {
      "text/html": [
       "<table>\n",
       "<thead><tr><th></th><th scope=col>Df</th><th scope=col>Sum Sq</th><th scope=col>Mean Sq</th><th scope=col>F value</th><th scope=col>Pr(&gt;F)</th></tr></thead>\n",
       "<tbody>\n",
       "\t<tr><th scope=row>cancer_volume</th><td> 1          </td><td>62202.34271 </td><td>62202.34271 </td><td>64.03165841 </td><td>4.304312e-12</td></tr>\n",
       "\t<tr><th scope=row>weight</th><td> 1          </td><td>   84.65815 </td><td>   84.65815 </td><td> 0.08714787 </td><td>7.685224e-01</td></tr>\n",
       "\t<tr><th scope=row>age</th><td> 1          </td><td>   19.81633 </td><td>   19.81633 </td><td> 0.02039911 </td><td>8.867509e-01</td></tr>\n",
       "\t<tr><th scope=row>benign_prostatic_hyperplasia</th><td> 1          </td><td>  814.66003 </td><td>  814.66003 </td><td> 0.83861846 </td><td>3.622668e-01</td></tr>\n",
       "\t<tr><th scope=row>seminal_vesicle_invasion</th><td> 1          </td><td> 7365.95645 </td><td> 7365.95645 </td><td> 7.58258269 </td><td>7.144264e-03</td></tr>\n",
       "\t<tr><th scope=row>capsular_penetration</th><td> 1          </td><td>  932.86108 </td><td>  932.86108 </td><td> 0.96029569 </td><td>3.297687e-01</td></tr>\n",
       "\t<tr><th scope=row>gleason_score</th><td> 1          </td><td> 1794.04851 </td><td> 1794.04851 </td><td> 1.84680989 </td><td>1.775888e-01</td></tr>\n",
       "\t<tr><th scope=row>Residuals</th><td>89          </td><td>86457.36561 </td><td>  971.43107 </td><td>         NA </td><td>          NA</td></tr>\n",
       "</tbody>\n",
       "</table>\n"
      ],
      "text/latex": [
       "\\begin{tabular}{r|lllll}\n",
       "  & Df & Sum Sq & Mean Sq & F value & Pr(>F)\\\\\n",
       "\\hline\n",
       "\tcancer\\_volume &  1           & 62202.34271  & 62202.34271  & 64.03165841  & 4.304312e-12\\\\\n",
       "\tweight &  1           &    84.65815  &    84.65815  &  0.08714787  & 7.685224e-01\\\\\n",
       "\tage &  1           &    19.81633  &    19.81633  &  0.02039911  & 8.867509e-01\\\\\n",
       "\tbenign\\_prostatic\\_hyperplasia &  1           &   814.66003  &   814.66003  &  0.83861846  & 3.622668e-01\\\\\n",
       "\tseminal\\_vesicle\\_invasion &  1           &  7365.95645  &  7365.95645  &  7.58258269  & 7.144264e-03\\\\\n",
       "\tcapsular\\_penetration &  1           &   932.86108  &   932.86108  &  0.96029569  & 3.297687e-01\\\\\n",
       "\tgleason\\_score &  1           &  1794.04851  &  1794.04851  &  1.84680989  & 1.775888e-01\\\\\n",
       "\tResiduals & 89           & 86457.36561  &   971.43107  &          NA  &           NA\\\\\n",
       "\\end{tabular}\n"
      ],
      "text/markdown": [
       "\n",
       "| <!--/--> | Df | Sum Sq | Mean Sq | F value | Pr(>F) | \n",
       "|---|---|---|---|---|---|---|---|\n",
       "| cancer_volume |  1           | 62202.34271  | 62202.34271  | 64.03165841  | 4.304312e-12 | \n",
       "| weight |  1           |    84.65815  |    84.65815  |  0.08714787  | 7.685224e-01 | \n",
       "| age |  1           |    19.81633  |    19.81633  |  0.02039911  | 8.867509e-01 | \n",
       "| benign_prostatic_hyperplasia |  1           |   814.66003  |   814.66003  |  0.83861846  | 3.622668e-01 | \n",
       "| seminal_vesicle_invasion |  1           |  7365.95645  |  7365.95645  |  7.58258269  | 7.144264e-03 | \n",
       "| capsular_penetration |  1           |   932.86108  |   932.86108  |  0.96029569  | 3.297687e-01 | \n",
       "| gleason_score |  1           |  1794.04851  |  1794.04851  |  1.84680989  | 1.775888e-01 | \n",
       "| Residuals | 89           | 86457.36561  |   971.43107  |          NA  |           NA | \n",
       "\n",
       "\n"
      ],
      "text/plain": [
       "                             Df Sum Sq      Mean Sq     F value    \n",
       "cancer_volume                 1 62202.34271 62202.34271 64.03165841\n",
       "weight                        1    84.65815    84.65815  0.08714787\n",
       "age                           1    19.81633    19.81633  0.02039911\n",
       "benign_prostatic_hyperplasia  1   814.66003   814.66003  0.83861846\n",
       "seminal_vesicle_invasion      1  7365.95645  7365.95645  7.58258269\n",
       "capsular_penetration          1   932.86108   932.86108  0.96029569\n",
       "gleason_score                 1  1794.04851  1794.04851  1.84680989\n",
       "Residuals                    89 86457.36561   971.43107          NA\n",
       "                             Pr(>F)      \n",
       "cancer_volume                4.304312e-12\n",
       "weight                       7.685224e-01\n",
       "age                          8.867509e-01\n",
       "benign_prostatic_hyperplasia 3.622668e-01\n",
       "seminal_vesicle_invasion     7.144264e-03\n",
       "capsular_penetration         3.297687e-01\n",
       "gleason_score                1.775888e-01\n",
       "Residuals                              NA"
      ]
     },
     "metadata": {},
     "output_type": "display_data"
    },
    {
     "data": {
      "text/plain": [
       "\n",
       "Call:\n",
       "lm(formula = psa_level ~ cancer_volume + weight + age + benign_prostatic_hyperplasia + \n",
       "    seminal_vesicle_invasion + capsular_penetration + gleason_score, \n",
       "    data = patients)\n",
       "\n",
       "Residuals:\n",
       "    Min      1Q  Median      3Q     Max \n",
       "-61.330  -8.130  -0.014   6.324 167.436 \n",
       "\n",
       "Coefficients:\n",
       "                              Estimate Std. Error t value Pr(>|t|)    \n",
       "(Intercept)                  -15.24264   40.53932  -0.376 0.707814    \n",
       "cancer_volume                  2.03225    0.59359   3.424 0.000936 ***\n",
       "weight                         0.01132    0.07395   0.153 0.878708    \n",
       "age                           -0.53721    0.47588  -1.129 0.261977    \n",
       "benign_prostatic_hyperplasia   1.29831    1.20168   1.080 0.282878    \n",
       "seminal_vesicle_invasion      19.60957   10.89184   1.800 0.075187 .  \n",
       "capsular_penetration           1.09877    1.33377   0.824 0.412253    \n",
       "gleason_score                  7.05922    5.19452   1.359 0.177589    \n",
       "---\n",
       "Signif. codes:  0 ‘***’ 0.001 ‘**’ 0.01 ‘*’ 0.05 ‘.’ 0.1 ‘ ’ 1\n",
       "\n",
       "Residual standard error: 31.17 on 89 degrees of freedom\n",
       "Multiple R-squared:  0.4585,\tAdjusted R-squared:  0.4159 \n",
       "F-statistic: 10.77 on 7 and 89 DF,  p-value: 9.266e-10\n"
      ]
     },
     "metadata": {},
     "output_type": "display_data"
    }
   ],
   "source": [
    "AIC(patients.model)\n",
    "anova(patients.model)\n",
    "summary(patients.model)"
   ]
  },
  {
   "cell_type": "code",
   "execution_count": 23,
   "metadata": {},
   "outputs": [
    {
     "data": {
      "text/plain": [
       "\n",
       "Call:\n",
       "lm(formula = psa_level ~ cancer_volume + age + benign_prostatic_hyperplasia + \n",
       "    seminal_vesicle_invasion + gleason_score, data = patients)\n",
       "\n",
       "Residuals:\n",
       "    Min      1Q  Median      3Q     Max \n",
       "-54.839  -8.758   0.206   5.181 163.883 \n",
       "\n",
       "Coefficients:\n",
       "                             Estimate Std. Error t value Pr(>|t|)    \n",
       "(Intercept)                  -18.4353    39.8719  -0.462   0.6449    \n",
       "cancer_volume                  2.2595     0.5238   4.313 4.07e-05 ***\n",
       "age                           -0.5261     0.4715  -1.116   0.2674    \n",
       "benign_prostatic_hyperplasia   1.3714     1.1412   1.202   0.2326    \n",
       "seminal_vesicle_invasion      23.6477     9.6720   2.445   0.0164 *  \n",
       "gleason_score                  7.4688     5.1080   1.462   0.1471    \n",
       "---\n",
       "Signif. codes:  0 ‘***’ 0.001 ‘**’ 0.01 ‘*’ 0.05 ‘.’ 0.1 ‘ ’ 1\n",
       "\n",
       "Residual standard error: 30.94 on 91 degrees of freedom\n",
       "Multiple R-squared:  0.4543,\tAdjusted R-squared:  0.4243 \n",
       "F-statistic: 15.15 on 5 and 91 DF,  p-value: 8.245e-11\n"
      ]
     },
     "metadata": {},
     "output_type": "display_data"
    },
    {
     "data": {
      "text/html": [
       "<table>\n",
       "<thead><tr><th></th><th scope=col>Df</th><th scope=col>Sum Sq</th><th scope=col>Mean Sq</th><th scope=col>F value</th><th scope=col>Pr(&gt;F)</th></tr></thead>\n",
       "<tbody>\n",
       "\t<tr><th scope=row>cancer_volume</th><td> 1          </td><td>62202.342713</td><td>62202.342713</td><td>64.959385596</td><td>2.880403e-12</td></tr>\n",
       "\t<tr><th scope=row>age</th><td> 1          </td><td>    8.293344</td><td>    8.293344</td><td> 0.008660936</td><td>9.260572e-01</td></tr>\n",
       "\t<tr><th scope=row>benign_prostatic_hyperplasia</th><td> 1          </td><td>  909.506681</td><td>  909.506681</td><td> 0.949819454</td><td>3.323489e-01</td></tr>\n",
       "\t<tr><th scope=row>seminal_vesicle_invasion</th><td> 1          </td><td> 7366.623010</td><td> 7366.623010</td><td> 7.693139580</td><td>6.724960e-03</td></tr>\n",
       "\t<tr><th scope=row>gleason_score</th><td> 1          </td><td> 2047.216451</td><td> 2047.216451</td><td> 2.137956821</td><td>1.471381e-01</td></tr>\n",
       "\t<tr><th scope=row>Residuals</th><td>91          </td><td>87137.726672</td><td>  957.557436</td><td>          NA</td><td>          NA</td></tr>\n",
       "</tbody>\n",
       "</table>\n"
      ],
      "text/latex": [
       "\\begin{tabular}{r|lllll}\n",
       "  & Df & Sum Sq & Mean Sq & F value & Pr(>F)\\\\\n",
       "\\hline\n",
       "\tcancer\\_volume &  1           & 62202.342713 & 62202.342713 & 64.959385596 & 2.880403e-12\\\\\n",
       "\tage &  1           &     8.293344 &     8.293344 &  0.008660936 & 9.260572e-01\\\\\n",
       "\tbenign\\_prostatic\\_hyperplasia &  1           &   909.506681 &   909.506681 &  0.949819454 & 3.323489e-01\\\\\n",
       "\tseminal\\_vesicle\\_invasion &  1           &  7366.623010 &  7366.623010 &  7.693139580 & 6.724960e-03\\\\\n",
       "\tgleason\\_score &  1           &  2047.216451 &  2047.216451 &  2.137956821 & 1.471381e-01\\\\\n",
       "\tResiduals & 91           & 87137.726672 &   957.557436 &           NA &           NA\\\\\n",
       "\\end{tabular}\n"
      ],
      "text/markdown": [
       "\n",
       "| <!--/--> | Df | Sum Sq | Mean Sq | F value | Pr(>F) | \n",
       "|---|---|---|---|---|---|\n",
       "| cancer_volume |  1           | 62202.342713 | 62202.342713 | 64.959385596 | 2.880403e-12 | \n",
       "| age |  1           |     8.293344 |     8.293344 |  0.008660936 | 9.260572e-01 | \n",
       "| benign_prostatic_hyperplasia |  1           |   909.506681 |   909.506681 |  0.949819454 | 3.323489e-01 | \n",
       "| seminal_vesicle_invasion |  1           |  7366.623010 |  7366.623010 |  7.693139580 | 6.724960e-03 | \n",
       "| gleason_score |  1           |  2047.216451 |  2047.216451 |  2.137956821 | 1.471381e-01 | \n",
       "| Residuals | 91           | 87137.726672 |   957.557436 |           NA |           NA | \n",
       "\n",
       "\n"
      ],
      "text/plain": [
       "                             Df Sum Sq       Mean Sq      F value     \n",
       "cancer_volume                 1 62202.342713 62202.342713 64.959385596\n",
       "age                           1     8.293344     8.293344  0.008660936\n",
       "benign_prostatic_hyperplasia  1   909.506681   909.506681  0.949819454\n",
       "seminal_vesicle_invasion      1  7366.623010  7366.623010  7.693139580\n",
       "gleason_score                 1  2047.216451  2047.216451  2.137956821\n",
       "Residuals                    91 87137.726672   957.557436           NA\n",
       "                             Pr(>F)      \n",
       "cancer_volume                2.880403e-12\n",
       "age                          9.260572e-01\n",
       "benign_prostatic_hyperplasia 3.323489e-01\n",
       "seminal_vesicle_invasion     6.724960e-03\n",
       "gleason_score                1.471381e-01\n",
       "Residuals                              NA"
      ]
     },
     "metadata": {},
     "output_type": "display_data"
    },
    {
     "data": {
      "text/html": [
       "948.925896004173"
      ],
      "text/latex": [
       "948.925896004173"
      ],
      "text/markdown": [
       "948.925896004173"
      ],
      "text/plain": [
       "[1] 948.9259"
      ]
     },
     "metadata": {},
     "output_type": "display_data"
    }
   ],
   "source": [
    "patients.model.r1 <- update(patients.model, . ~ . - weight -capsular_penetration)\n",
    "summary(patients.model.r1)\n",
    "anova(patients.model.r1)\n",
    "AIC(patients.model.r1)"
   ]
  },
  {
   "cell_type": "code",
   "execution_count": 37,
   "metadata": {},
   "outputs": [],
   "source": [
    "patients.model.r2 <- lm(psa_level ~ cancer_volume + cancer_volume:seminal_vesicle_invasion + seminal_vesicle_invasion , data=patients)\n",
    "patients.model.r3 <- lm(psa_level ~ cancer_volume + seminal_vesicle_invasion , data=patients)"
   ]
  },
  {
   "cell_type": "code",
   "execution_count": 39,
   "metadata": {
    "scrolled": true
   },
   "outputs": [],
   "source": [
    "# Fit biomass for pH=4.15 AND Na=10000. and create a P.I.\n",
    "newdata=data.frame(cancer_volume=4.2633,seminal_vesicle_invasion = 0)"
   ]
  },
  {
   "cell_type": "code",
   "execution_count": 40,
   "metadata": {},
   "outputs": [
    {
     "data": {
      "text/html": [
       "<table>\n",
       "<thead><tr><th></th><th scope=col>fit</th><th scope=col>lwr</th><th scope=col>upr</th></tr></thead>\n",
       "<tbody>\n",
       "\t<tr><th scope=row>1</th><td>11.61938 </td><td>-40.36683</td><td>63.6056  </td></tr>\n",
       "</tbody>\n",
       "</table>\n"
      ],
      "text/latex": [
       "\\begin{tabular}{r|lll}\n",
       "  & fit & lwr & upr\\\\\n",
       "\\hline\n",
       "\t1 & 11.61938  & -40.36683 & 63.6056  \\\\\n",
       "\\end{tabular}\n"
      ],
      "text/markdown": [
       "\n",
       "| <!--/--> | fit | lwr | upr | \n",
       "|---|\n",
       "| 1 | 11.61938  | -40.36683 | 63.6056   | \n",
       "\n",
       "\n"
      ],
      "text/plain": [
       "  fit      lwr       upr    \n",
       "1 11.61938 -40.36683 63.6056"
      ]
     },
     "metadata": {},
     "output_type": "display_data"
    }
   ],
   "source": [
    "#apply(linthurst[,c(\"pH\",\"Na\")], 1, function(x, want) isTRUE(all.equal(as.numeric(x), want)), newdata)\n",
    "predict(patients.model.r3, newdata, interval=\"prediction\",level=0.90)"
   ]
  },
  {
   "cell_type": "code",
   "execution_count": 41,
   "metadata": {},
   "outputs": [
    {
     "data": {
      "text/html": [
       "<table>\n",
       "<thead><tr><th></th><th scope=col>fit</th><th scope=col>lwr</th><th scope=col>upr</th></tr></thead>\n",
       "<tbody>\n",
       "\t<tr><th scope=row>1</th><td>11.98886</td><td>-39.0565</td><td>63.03422</td></tr>\n",
       "</tbody>\n",
       "</table>\n"
      ],
      "text/latex": [
       "\\begin{tabular}{r|lll}\n",
       "  & fit & lwr & upr\\\\\n",
       "\\hline\n",
       "\t1 & 11.98886 & -39.0565 & 63.03422\\\\\n",
       "\\end{tabular}\n"
      ],
      "text/markdown": [
       "\n",
       "| <!--/--> | fit | lwr | upr | \n",
       "|---|\n",
       "| 1 | 11.98886 | -39.0565 | 63.03422 | \n",
       "\n",
       "\n"
      ],
      "text/plain": [
       "  fit      lwr      upr     \n",
       "1 11.98886 -39.0565 63.03422"
      ]
     },
     "metadata": {},
     "output_type": "display_data"
    }
   ],
   "source": [
    "predict(patients.model.r2, newdata, interval=\"prediction\",level=0.90)"
   ]
  },
  {
   "cell_type": "code",
   "execution_count": null,
   "metadata": {},
   "outputs": [],
   "source": []
  }
 ],
 "metadata": {
  "kernelspec": {
   "display_name": "R",
   "language": "R",
   "name": "ir"
  },
  "language_info": {
   "codemirror_mode": "r",
   "file_extension": ".r",
   "mimetype": "text/x-r-source",
   "name": "R",
   "pygments_lexer": "r",
   "version": "3.4.3"
  }
 },
 "nbformat": 4,
 "nbformat_minor": 2
}
