{
 "cells": [
  {
   "cell_type": "code",
   "execution_count": 1,
   "metadata": {},
   "outputs": [
    {
     "data": {
      "text/html": [
       "<table>\n",
       "<thead><tr><th scope=col>id</th><th scope=col>psa_level</th><th scope=col>cancer_volume</th><th scope=col>weight</th><th scope=col>age</th><th scope=col>benign_prostatic_hyperplasia</th><th scope=col>seminal_vesicle_invasion</th><th scope=col>capsular_penetration</th><th scope=col>gleason_score</th></tr></thead>\n",
       "<tbody>\n",
       "\t<tr><td>1     </td><td>0.651 </td><td>0.5599</td><td>15.959</td><td>50    </td><td>0     </td><td>0     </td><td>0     </td><td>6     </td></tr>\n",
       "\t<tr><td>2     </td><td>0.852 </td><td>0.3716</td><td>27.660</td><td>58    </td><td>0     </td><td>0     </td><td>0     </td><td>7     </td></tr>\n",
       "\t<tr><td>3     </td><td>0.852 </td><td>0.6005</td><td>14.732</td><td>74    </td><td>0     </td><td>0     </td><td>0     </td><td>7     </td></tr>\n",
       "\t<tr><td>4     </td><td>0.852 </td><td>0.3012</td><td>26.576</td><td>58    </td><td>0     </td><td>0     </td><td>0     </td><td>6     </td></tr>\n",
       "\t<tr><td>5     </td><td>1.448 </td><td>2.1170</td><td>30.877</td><td>62    </td><td>0     </td><td>0     </td><td>0     </td><td>6     </td></tr>\n",
       "\t<tr><td>6     </td><td>2.160 </td><td>0.3499</td><td>25.280</td><td>50    </td><td>0     </td><td>0     </td><td>0     </td><td>6     </td></tr>\n",
       "</tbody>\n",
       "</table>\n"
      ],
      "text/latex": [
       "\\begin{tabular}{r|lllllllll}\n",
       " id & psa\\_level & cancer\\_volume & weight & age & benign\\_prostatic\\_hyperplasia & seminal\\_vesicle\\_invasion & capsular\\_penetration & gleason\\_score\\\\\n",
       "\\hline\n",
       "\t 1      & 0.651  & 0.5599 & 15.959 & 50     & 0      & 0      & 0      & 6     \\\\\n",
       "\t 2      & 0.852  & 0.3716 & 27.660 & 58     & 0      & 0      & 0      & 7     \\\\\n",
       "\t 3      & 0.852  & 0.6005 & 14.732 & 74     & 0      & 0      & 0      & 7     \\\\\n",
       "\t 4      & 0.852  & 0.3012 & 26.576 & 58     & 0      & 0      & 0      & 6     \\\\\n",
       "\t 5      & 1.448  & 2.1170 & 30.877 & 62     & 0      & 0      & 0      & 6     \\\\\n",
       "\t 6      & 2.160  & 0.3499 & 25.280 & 50     & 0      & 0      & 0      & 6     \\\\\n",
       "\\end{tabular}\n"
      ],
      "text/markdown": [
       "\n",
       "id | psa_level | cancer_volume | weight | age | benign_prostatic_hyperplasia | seminal_vesicle_invasion | capsular_penetration | gleason_score | \n",
       "|---|---|---|---|---|---|\n",
       "| 1      | 0.651  | 0.5599 | 15.959 | 50     | 0      | 0      | 0      | 6      | \n",
       "| 2      | 0.852  | 0.3716 | 27.660 | 58     | 0      | 0      | 0      | 7      | \n",
       "| 3      | 0.852  | 0.6005 | 14.732 | 74     | 0      | 0      | 0      | 7      | \n",
       "| 4      | 0.852  | 0.3012 | 26.576 | 58     | 0      | 0      | 0      | 6      | \n",
       "| 5      | 1.448  | 2.1170 | 30.877 | 62     | 0      | 0      | 0      | 6      | \n",
       "| 6      | 2.160  | 0.3499 | 25.280 | 50     | 0      | 0      | 0      | 6      | \n",
       "\n",
       "\n"
      ],
      "text/plain": [
       "  id psa_level cancer_volume weight age benign_prostatic_hyperplasia\n",
       "1 1  0.651     0.5599        15.959 50  0                           \n",
       "2 2  0.852     0.3716        27.660 58  0                           \n",
       "3 3  0.852     0.6005        14.732 74  0                           \n",
       "4 4  0.852     0.3012        26.576 58  0                           \n",
       "5 5  1.448     2.1170        30.877 62  0                           \n",
       "6 6  2.160     0.3499        25.280 50  0                           \n",
       "  seminal_vesicle_invasion capsular_penetration gleason_score\n",
       "1 0                        0                    6            \n",
       "2 0                        0                    7            \n",
       "3 0                        0                    7            \n",
       "4 0                        0                    6            \n",
       "5 0                        0                    6            \n",
       "6 0                        0                    6            "
      ]
     },
     "metadata": {},
     "output_type": "display_data"
    }
   ],
   "source": [
    "patients <- read.table(\"project_data.txt\", header = FALSE, sep = \"\", dec = \".\")\n",
    "colnames(patients) <- c(\"id\", \"psa_level\", \"cancer_volume\", \"weight\", \"age\", \"benign_prostatic_hyperplasia\", \"seminal_vesicle_invasion\", \"capsular_penetration\", \"gleason_score\")\n",
    "head(patients)"
   ]
  },
  {
   "cell_type": "code",
   "execution_count": 2,
   "metadata": {},
   "outputs": [
    {
     "data": {
      "text/plain": [
       "       id       psa_level       cancer_volume         weight      \n",
       " Min.   : 1   Min.   :  0.651   Min.   : 0.2592   Min.   : 10.70  \n",
       " 1st Qu.:25   1st Qu.:  5.641   1st Qu.: 1.6653   1st Qu.: 29.37  \n",
       " Median :49   Median : 13.330   Median : 4.2631   Median : 37.34  \n",
       " Mean   :49   Mean   : 23.730   Mean   : 6.9987   Mean   : 45.49  \n",
       " 3rd Qu.:73   3rd Qu.: 21.328   3rd Qu.: 8.4149   3rd Qu.: 48.42  \n",
       " Max.   :97   Max.   :265.072   Max.   :45.6042   Max.   :450.34  \n",
       "      age        benign_prostatic_hyperplasia seminal_vesicle_invasion\n",
       " Min.   :41.00   Min.   : 0.000               Min.   :0.0000          \n",
       " 1st Qu.:60.00   1st Qu.: 0.000               1st Qu.:0.0000          \n",
       " Median :65.00   Median : 1.350               Median :0.0000          \n",
       " Mean   :63.87   Mean   : 2.535               Mean   :0.2165          \n",
       " 3rd Qu.:68.00   3rd Qu.: 4.759               3rd Qu.:0.0000          \n",
       " Max.   :79.00   Max.   :10.278               Max.   :1.0000          \n",
       " capsular_penetration gleason_score  \n",
       " Min.   : 0.0000      Min.   :6.000  \n",
       " 1st Qu.: 0.0000      1st Qu.:6.000  \n",
       " Median : 0.4493      Median :7.000  \n",
       " Mean   : 2.2454      Mean   :6.876  \n",
       " 3rd Qu.: 3.2544      3rd Qu.:7.000  \n",
       " Max.   :18.1741      Max.   :8.000  "
      ]
     },
     "metadata": {},
     "output_type": "display_data"
    },
    {
     "data": {
      "text/html": [
       "<table>\n",
       "<thead><tr><th></th><th scope=col>psa_level</th><th scope=col>cancer_volume</th><th scope=col>weight</th><th scope=col>age</th><th scope=col>benign_prostatic_hyperplasia</th><th scope=col>seminal_vesicle_invasion</th><th scope=col>capsular_penetration</th><th scope=col>gleason_score</th></tr></thead>\n",
       "<tbody>\n",
       "\t<tr><th scope=row>psa_level</th><td> 1.000</td><td> 0.624</td><td> 0.026</td><td>0.017 </td><td>-0.016</td><td> 0.529</td><td> 0.551</td><td> 0.430</td></tr>\n",
       "\t<tr><th scope=row>cancer_volume</th><td> 0.624</td><td> 1.000</td><td> 0.005</td><td>0.039 </td><td>-0.133</td><td> 0.582</td><td> 0.693</td><td> 0.481</td></tr>\n",
       "\t<tr><th scope=row>weight</th><td> 0.026</td><td> 0.005</td><td> 1.000</td><td>0.164 </td><td> 0.322</td><td>-0.002</td><td> 0.002</td><td>-0.024</td></tr>\n",
       "\t<tr><th scope=row>age</th><td> 0.017</td><td> 0.039</td><td> 0.164</td><td>1.000 </td><td> 0.366</td><td> 0.118</td><td> 0.100</td><td> 0.226</td></tr>\n",
       "\t<tr><th scope=row>benign_prostatic_hyperplasia</th><td>-0.016</td><td>-0.133</td><td> 0.322</td><td>0.366 </td><td> 1.000</td><td>-0.120</td><td>-0.083</td><td> 0.027</td></tr>\n",
       "\t<tr><th scope=row>seminal_vesicle_invasion</th><td> 0.529</td><td> 0.582</td><td>-0.002</td><td>0.118 </td><td>-0.120</td><td> 1.000</td><td> 0.680</td><td> 0.429</td></tr>\n",
       "\t<tr><th scope=row>capsular_penetration</th><td> 0.551</td><td> 0.693</td><td> 0.002</td><td>0.100 </td><td>-0.083</td><td> 0.680</td><td> 1.000</td><td> 0.462</td></tr>\n",
       "\t<tr><th scope=row>gleason_score</th><td> 0.430</td><td> 0.481</td><td>-0.024</td><td>0.226 </td><td> 0.027</td><td> 0.429</td><td> 0.462</td><td> 1.000</td></tr>\n",
       "</tbody>\n",
       "</table>\n"
      ],
      "text/latex": [
       "\\begin{tabular}{r|llllllll}\n",
       "  & psa\\_level & cancer\\_volume & weight & age & benign\\_prostatic\\_hyperplasia & seminal\\_vesicle\\_invasion & capsular\\_penetration & gleason\\_score\\\\\n",
       "\\hline\n",
       "\tpsa\\_level &  1.000 &  0.624 &  0.026 & 0.017  & -0.016 &  0.529 &  0.551 &  0.430\\\\\n",
       "\tcancer\\_volume &  0.624 &  1.000 &  0.005 & 0.039  & -0.133 &  0.582 &  0.693 &  0.481\\\\\n",
       "\tweight &  0.026 &  0.005 &  1.000 & 0.164  &  0.322 & -0.002 &  0.002 & -0.024\\\\\n",
       "\tage &  0.017 &  0.039 &  0.164 & 1.000  &  0.366 &  0.118 &  0.100 &  0.226\\\\\n",
       "\tbenign\\_prostatic\\_hyperplasia & -0.016 & -0.133 &  0.322 & 0.366  &  1.000 & -0.120 & -0.083 &  0.027\\\\\n",
       "\tseminal\\_vesicle\\_invasion &  0.529 &  0.582 & -0.002 & 0.118  & -0.120 &  1.000 &  0.680 &  0.429\\\\\n",
       "\tcapsular\\_penetration &  0.551 &  0.693 &  0.002 & 0.100  & -0.083 &  0.680 &  1.000 &  0.462\\\\\n",
       "\tgleason\\_score &  0.430 &  0.481 & -0.024 & 0.226  &  0.027 &  0.429 &  0.462 &  1.000\\\\\n",
       "\\end{tabular}\n"
      ],
      "text/markdown": [
       "\n",
       "| <!--/--> | psa_level | cancer_volume | weight | age | benign_prostatic_hyperplasia | seminal_vesicle_invasion | capsular_penetration | gleason_score | \n",
       "|---|---|---|---|---|---|---|---|\n",
       "| psa_level |  1.000 |  0.624 |  0.026 | 0.017  | -0.016 |  0.529 |  0.551 |  0.430 | \n",
       "| cancer_volume |  0.624 |  1.000 |  0.005 | 0.039  | -0.133 |  0.582 |  0.693 |  0.481 | \n",
       "| weight |  0.026 |  0.005 |  1.000 | 0.164  |  0.322 | -0.002 |  0.002 | -0.024 | \n",
       "| age |  0.017 |  0.039 |  0.164 | 1.000  |  0.366 |  0.118 |  0.100 |  0.226 | \n",
       "| benign_prostatic_hyperplasia | -0.016 | -0.133 |  0.322 | 0.366  |  1.000 | -0.120 | -0.083 |  0.027 | \n",
       "| seminal_vesicle_invasion |  0.529 |  0.582 | -0.002 | 0.118  | -0.120 |  1.000 |  0.680 |  0.429 | \n",
       "| capsular_penetration |  0.551 |  0.693 |  0.002 | 0.100  | -0.083 |  0.680 |  1.000 |  0.462 | \n",
       "| gleason_score |  0.430 |  0.481 | -0.024 | 0.226  |  0.027 |  0.429 |  0.462 |  1.000 | \n",
       "\n",
       "\n"
      ],
      "text/plain": [
       "                             psa_level cancer_volume weight age  \n",
       "psa_level                     1.000     0.624         0.026 0.017\n",
       "cancer_volume                 0.624     1.000         0.005 0.039\n",
       "weight                        0.026     0.005         1.000 0.164\n",
       "age                           0.017     0.039         0.164 1.000\n",
       "benign_prostatic_hyperplasia -0.016    -0.133         0.322 0.366\n",
       "seminal_vesicle_invasion      0.529     0.582        -0.002 0.118\n",
       "capsular_penetration          0.551     0.693         0.002 0.100\n",
       "gleason_score                 0.430     0.481        -0.024 0.226\n",
       "                             benign_prostatic_hyperplasia\n",
       "psa_level                    -0.016                      \n",
       "cancer_volume                -0.133                      \n",
       "weight                        0.322                      \n",
       "age                           0.366                      \n",
       "benign_prostatic_hyperplasia  1.000                      \n",
       "seminal_vesicle_invasion     -0.120                      \n",
       "capsular_penetration         -0.083                      \n",
       "gleason_score                 0.027                      \n",
       "                             seminal_vesicle_invasion capsular_penetration\n",
       "psa_level                     0.529                    0.551              \n",
       "cancer_volume                 0.582                    0.693              \n",
       "weight                       -0.002                    0.002              \n",
       "age                           0.118                    0.100              \n",
       "benign_prostatic_hyperplasia -0.120                   -0.083              \n",
       "seminal_vesicle_invasion      1.000                    0.680              \n",
       "capsular_penetration          0.680                    1.000              \n",
       "gleason_score                 0.429                    0.462              \n",
       "                             gleason_score\n",
       "psa_level                     0.430       \n",
       "cancer_volume                 0.481       \n",
       "weight                       -0.024       \n",
       "age                           0.226       \n",
       "benign_prostatic_hyperplasia  0.027       \n",
       "seminal_vesicle_invasion      0.429       \n",
       "capsular_penetration          0.462       \n",
       "gleason_score                 1.000       "
      ]
     },
     "metadata": {},
     "output_type": "display_data"
    }
   ],
   "source": [
    "summary(patients)\n",
    "round(cor(patients[c(\"psa_level\",\"cancer_volume\",\"weight\",\"age\",\"benign_prostatic_hyperplasia\",\"seminal_vesicle_invasion\",\"capsular_penetration\",\"gleason_score\")]),3) "
   ]
  },
  {
   "cell_type": "markdown",
   "metadata": {},
   "source": [
    "## Fit \"Full\" model"
   ]
  },
  {
   "cell_type": "code",
   "execution_count": 37,
   "metadata": {},
   "outputs": [
    {
     "data": {
      "text/plain": [
       "\n",
       "Call:\n",
       "lm(formula = psa_level ~ cancer_volume + age + benign_prostatic_hyperplasia + \n",
       "    seminal_vesicle_invasion + gleason_score + weight + capsular_penetration, \n",
       "    data = patients)\n",
       "\n",
       "Residuals:\n",
       "    Min      1Q  Median      3Q     Max \n",
       "-61.330  -8.130  -0.014   6.324 167.436 \n",
       "\n",
       "Coefficients:\n",
       "                              Estimate Std. Error t value Pr(>|t|)    \n",
       "(Intercept)                  -15.24264   40.53932  -0.376 0.707814    \n",
       "cancer_volume                  2.03225    0.59359   3.424 0.000936 ***\n",
       "age                           -0.53721    0.47588  -1.129 0.261977    \n",
       "benign_prostatic_hyperplasia   1.29831    1.20168   1.080 0.282878    \n",
       "seminal_vesicle_invasion      19.60957   10.89184   1.800 0.075187 .  \n",
       "gleason_score                  7.05922    5.19452   1.359 0.177589    \n",
       "weight                         0.01132    0.07395   0.153 0.878708    \n",
       "capsular_penetration           1.09877    1.33377   0.824 0.412253    \n",
       "---\n",
       "Signif. codes:  0 ‘***’ 0.001 ‘**’ 0.01 ‘*’ 0.05 ‘.’ 0.1 ‘ ’ 1\n",
       "\n",
       "Residual standard error: 31.17 on 89 degrees of freedom\n",
       "Multiple R-squared:  0.4585,\tAdjusted R-squared:  0.4159 \n",
       "F-statistic: 10.77 on 7 and 89 DF,  p-value: 9.266e-10\n"
      ]
     },
     "metadata": {},
     "output_type": "display_data"
    },
    {
     "data": {
      "text/html": [
       "<table>\n",
       "<thead><tr><th></th><th scope=col>Df</th><th scope=col>Sum Sq</th><th scope=col>Mean Sq</th><th scope=col>F value</th><th scope=col>Pr(&gt;F)</th></tr></thead>\n",
       "<tbody>\n",
       "\t<tr><th scope=row>cancer_volume</th><td> 1          </td><td>62202.342713</td><td>62202.342713</td><td>64.031658406</td><td>4.304312e-12</td></tr>\n",
       "\t<tr><th scope=row>age</th><td> 1          </td><td>    8.293344</td><td>    8.293344</td><td> 0.008537244</td><td>9.265901e-01</td></tr>\n",
       "\t<tr><th scope=row>benign_prostatic_hyperplasia</th><td> 1          </td><td>  909.506681</td><td>  909.506681</td><td> 0.936254465</td><td>3.358651e-01</td></tr>\n",
       "\t<tr><th scope=row>seminal_vesicle_invasion</th><td> 1          </td><td> 7366.623010</td><td> 7366.623010</td><td> 7.583268855</td><td>7.141763e-03</td></tr>\n",
       "\t<tr><th scope=row>gleason_score</th><td> 1          </td><td> 2047.216451</td><td> 2047.216451</td><td> 2.107423270</td><td>1.501020e-01</td></tr>\n",
       "\t<tr><th scope=row>weight</th><td> 1          </td><td>   21.096812</td><td>   21.096812</td><td> 0.021717251</td><td>8.831751e-01</td></tr>\n",
       "\t<tr><th scope=row>capsular_penetration</th><td> 1          </td><td>  659.264249</td><td>  659.264249</td><td> 0.678652626</td><td>4.122532e-01</td></tr>\n",
       "\t<tr><th scope=row>Residuals</th><td>89          </td><td>86457.365611</td><td>  971.431074</td><td>          NA</td><td>          NA</td></tr>\n",
       "</tbody>\n",
       "</table>\n"
      ],
      "text/latex": [
       "\\begin{tabular}{r|lllll}\n",
       "  & Df & Sum Sq & Mean Sq & F value & Pr(>F)\\\\\n",
       "\\hline\n",
       "\tcancer\\_volume &  1           & 62202.342713 & 62202.342713 & 64.031658406 & 4.304312e-12\\\\\n",
       "\tage &  1           &     8.293344 &     8.293344 &  0.008537244 & 9.265901e-01\\\\\n",
       "\tbenign\\_prostatic\\_hyperplasia &  1           &   909.506681 &   909.506681 &  0.936254465 & 3.358651e-01\\\\\n",
       "\tseminal\\_vesicle\\_invasion &  1           &  7366.623010 &  7366.623010 &  7.583268855 & 7.141763e-03\\\\\n",
       "\tgleason\\_score &  1           &  2047.216451 &  2047.216451 &  2.107423270 & 1.501020e-01\\\\\n",
       "\tweight &  1           &    21.096812 &    21.096812 &  0.021717251 & 8.831751e-01\\\\\n",
       "\tcapsular\\_penetration &  1           &   659.264249 &   659.264249 &  0.678652626 & 4.122532e-01\\\\\n",
       "\tResiduals & 89           & 86457.365611 &   971.431074 &           NA &           NA\\\\\n",
       "\\end{tabular}\n"
      ],
      "text/markdown": [
       "\n",
       "| <!--/--> | Df | Sum Sq | Mean Sq | F value | Pr(>F) | \n",
       "|---|---|---|---|---|---|---|---|\n",
       "| cancer_volume |  1           | 62202.342713 | 62202.342713 | 64.031658406 | 4.304312e-12 | \n",
       "| age |  1           |     8.293344 |     8.293344 |  0.008537244 | 9.265901e-01 | \n",
       "| benign_prostatic_hyperplasia |  1           |   909.506681 |   909.506681 |  0.936254465 | 3.358651e-01 | \n",
       "| seminal_vesicle_invasion |  1           |  7366.623010 |  7366.623010 |  7.583268855 | 7.141763e-03 | \n",
       "| gleason_score |  1           |  2047.216451 |  2047.216451 |  2.107423270 | 1.501020e-01 | \n",
       "| weight |  1           |    21.096812 |    21.096812 |  0.021717251 | 8.831751e-01 | \n",
       "| capsular_penetration |  1           |   659.264249 |   659.264249 |  0.678652626 | 4.122532e-01 | \n",
       "| Residuals | 89           | 86457.365611 |   971.431074 |           NA |           NA | \n",
       "\n",
       "\n"
      ],
      "text/plain": [
       "                             Df Sum Sq       Mean Sq      F value     \n",
       "cancer_volume                 1 62202.342713 62202.342713 64.031658406\n",
       "age                           1     8.293344     8.293344  0.008537244\n",
       "benign_prostatic_hyperplasia  1   909.506681   909.506681  0.936254465\n",
       "seminal_vesicle_invasion      1  7366.623010  7366.623010  7.583268855\n",
       "gleason_score                 1  2047.216451  2047.216451  2.107423270\n",
       "weight                        1    21.096812    21.096812  0.021717251\n",
       "capsular_penetration          1   659.264249   659.264249  0.678652626\n",
       "Residuals                    89 86457.365611   971.431074           NA\n",
       "                             Pr(>F)      \n",
       "cancer_volume                4.304312e-12\n",
       "age                          9.265901e-01\n",
       "benign_prostatic_hyperplasia 3.358651e-01\n",
       "seminal_vesicle_invasion     7.141763e-03\n",
       "gleason_score                1.501020e-01\n",
       "weight                       8.831751e-01\n",
       "capsular_penetration         4.122532e-01\n",
       "Residuals                              NA"
      ]
     },
     "metadata": {},
     "output_type": "display_data"
    }
   ],
   "source": [
    "fit0 <- lm(psa_level ~ cancer_volume + age + benign_prostatic_hyperplasia + seminal_vesicle_invasion + gleason_score + weight + capsular_penetration, data=patients)\n",
    "summary(fit0)\n",
    "anova(fit0)"
   ]
  },
  {
   "cell_type": "markdown",
   "metadata": {},
   "source": [
    "## Perform Backward Elimination, Forward Selection using individual t tests"
   ]
  },
  {
   "cell_type": "code",
   "execution_count": 38,
   "metadata": {},
   "outputs": [
    {
     "name": "stdout",
     "output_type": "stream",
     "text": [
      "psa_level ~ 1\n",
      "----------------------------------------------\n",
      "Step 1 -> Adding:+ cancer_volume \n",
      "              Estimate Pr(>|t|)\n",
      "(Intercept)      1.125    0.797\n",
      "cancer_volume    3.230    0.000\n",
      "\n",
      "psa_level ~ cancer_volume\n",
      "----------------------------------------------\n",
      "Step 2 -> Adding:+ seminal_vesicle_invasion \n",
      "                         Estimate Pr(>|t|)\n",
      "(Intercept)                 1.060    0.803\n",
      "cancer_volume               2.477    0.000\n",
      "seminal_vesicle_invasion   24.647    0.010\n",
      "\n",
      "psa_level ~ cancer_volume + age + benign_prostatic_hyperplasia + \n",
      "    seminal_vesicle_invasion + gleason_score + weight + capsular_penetration\n",
      "----------------------------------------------\n",
      "Step 1 -> Removing:- weight \n",
      "                             Estimate Pr(>|t|)\n",
      "(Intercept)                   -14.746    0.715\n",
      "cancer_volume                   2.038    0.001\n",
      "age                            -0.533    0.262\n",
      "benign_prostatic_hyperplasia    1.352    0.240\n",
      "seminal_vesicle_invasion       19.644    0.073\n",
      "gleason_score                   6.994    0.178\n",
      "capsular_penetration            1.097    0.410\n",
      "\n",
      "psa_level ~ cancer_volume + age + benign_prostatic_hyperplasia + \n",
      "    seminal_vesicle_invasion + gleason_score + capsular_penetration\n",
      "----------------------------------------------\n",
      "Step 2 -> Removing:- capsular_penetration \n",
      "                             Estimate Pr(>|t|)\n",
      "(Intercept)                   -18.435    0.645\n",
      "cancer_volume                   2.259    0.000\n",
      "age                            -0.526    0.267\n",
      "benign_prostatic_hyperplasia    1.371    0.233\n",
      "seminal_vesicle_invasion       23.648    0.016\n",
      "gleason_score                   7.469    0.147\n",
      "\n",
      "psa_level ~ cancer_volume + age + benign_prostatic_hyperplasia + \n",
      "    seminal_vesicle_invasion + gleason_score\n",
      "----------------------------------------------\n",
      "Step 3 -> Removing:- age \n",
      "                             Estimate Pr(>|t|)\n",
      "(Intercept)                   -43.485    0.191\n",
      "cancer_volume                   2.299    0.000\n",
      "benign_prostatic_hyperplasia    0.900    0.399\n",
      "seminal_vesicle_invasion       22.502    0.022\n",
      "gleason_score                   6.394    0.206\n",
      "\n",
      "psa_level ~ cancer_volume + benign_prostatic_hyperplasia + seminal_vesicle_invasion + \n",
      "    gleason_score\n",
      "----------------------------------------------\n",
      "Step 4 -> Removing:- benign_prostatic_hyperplasia \n",
      "                         Estimate Pr(>|t|)\n",
      "(Intercept)               -44.185    0.183\n",
      "cancer_volume               2.250    0.000\n",
      "seminal_vesicle_invasion   21.881    0.025\n",
      "gleason_score               6.898    0.169\n",
      "\n",
      "psa_level ~ cancer_volume + seminal_vesicle_invasion + gleason_score\n",
      "----------------------------------------------\n",
      "Step 5 -> Removing:- gleason_score \n",
      "                         Estimate Pr(>|t|)\n",
      "(Intercept)                 1.060    0.803\n",
      "cancer_volume               2.477    0.000\n",
      "seminal_vesicle_invasion   24.647    0.010\n",
      "\n",
      "\n",
      "Final model:\n",
      "psa_level ~ cancer_volume + seminal_vesicle_invasion\n"
     ]
    },
    {
     "data": {
      "text/plain": [
       "\n",
       "Call:\n",
       "lm(formula = psa_level ~ cancer_volume + seminal_vesicle_invasion, \n",
       "    data = patients)\n",
       "\n",
       "Coefficients:\n",
       "             (Intercept)             cancer_volume  seminal_vesicle_invasion  \n",
       "                   1.060                     2.477                    24.647  \n"
      ]
     },
     "metadata": {},
     "output_type": "display_data"
    }
   ],
   "source": [
    "stepT(fit0,alpha.rem=0.05,alpha.enter=0.05,direction=\"both\")"
   ]
  },
  {
   "cell_type": "code",
   "execution_count": null,
   "metadata": {},
   "outputs": [],
   "source": []
  }
 ],
 "metadata": {
  "kernelspec": {
   "display_name": "R",
   "language": "R",
   "name": "ir"
  },
  "language_info": {
   "codemirror_mode": "r",
   "file_extension": ".r",
   "mimetype": "text/x-r-source",
   "name": "R",
   "pygments_lexer": "r",
   "version": "3.4.3"
  }
 },
 "nbformat": 4,
 "nbformat_minor": 2
}
